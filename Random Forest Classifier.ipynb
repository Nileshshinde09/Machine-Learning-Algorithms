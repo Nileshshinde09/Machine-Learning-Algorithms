{
 "cells": [
  {
   "cell_type": "code",
   "execution_count": 1,
   "id": "16488f26",
   "metadata": {},
   "outputs": [],
   "source": [
    "from sklearn import metrics"
   ]
  },
  {
   "cell_type": "code",
   "execution_count": 3,
   "id": "6d809a6e",
   "metadata": {},
   "outputs": [],
   "source": [
    "from sklearn import datasets\n",
    "import pandas as pd"
   ]
  },
  {
   "cell_type": "code",
   "execution_count": 5,
   "id": "aaaad78d",
   "metadata": {},
   "outputs": [],
   "source": [
    "from sklearn.ensemble import RandomForestClassifier"
   ]
  },
  {
   "cell_type": "markdown",
   "id": "c6c002e5",
   "metadata": {},
   "source": [
    "loading iris data from sklearn"
   ]
  },
  {
   "cell_type": "code",
   "execution_count": 6,
   "id": "7d25f658",
   "metadata": {},
   "outputs": [],
   "source": [
    "iris = datasets.load_iris()"
   ]
  },
  {
   "cell_type": "code",
   "execution_count": 13,
   "id": "897fd44e",
   "metadata": {},
   "outputs": [
    {
     "data": {
      "text/plain": [
       "\"\\ndict_keys(['data', 'target', 'frame', 'target_names',\\n'DESCR', 'feature_names', 'filename', 'data_module'])\\n\""
      ]
     },
     "execution_count": 13,
     "metadata": {},
     "output_type": "execute_result"
    }
   ],
   "source": [
    "# iris.keys() ---> keys present in the iris datasets ---->\n",
    "'''\n",
    "dict_keys(['data', 'target', 'frame', 'target_names',\n",
    "'DESCR', 'feature_names', 'filename', 'data_module'])\n",
    "'''"
   ]
  },
  {
   "cell_type": "markdown",
   "id": "4bfbe25a",
   "metadata": {},
   "source": [
    "Random Forest is a popular machine learning model that is commonly used for classification tasks as can be seen in many academic papers, Kaggle competitions, and blog posts. In addition to classification, Random Forests can also be used for regression tasks. A Random Forest’s nonlinear nature can give it a leg up over linear algorithms, making it a great option. However, it is important to know your data and keep in mind that a Random Forest can’t extrapolate. It can only make a prediction that is an average of previously observed labels. In this sense it is very similar to KNN. In other words, in a regression problem, the range of predictions a Random Forest can make is bound by the highest and lowest labels in the training data. This behavior becomes problematic in situations where the training and prediction inputs differ in their range and/or distributions. This is called covariate shift and it is difficult for most models to handle but especially for Random Forest, because it can’t extrapolate.\n",
    "\n",
    "For example, let’s say that you’re working with data that has an underlying trend over time such as stock prices, home values or sales. If you’re training data is missing any time periods, your Random Forest model will under or over predict, depending on the trend, examples outside of the time frames in your training data. This will be very noticeable if you plot your model’s predictions against their true values. Let’s take a look at this by creating some data."
   ]
  },
  {
   "cell_type": "markdown",
   "id": "1ce7d9b7",
   "metadata": {},
   "source": [
    "# Classification of data into x and y"
   ]
  },
  {
   "cell_type": "code",
   "execution_count": 16,
   "id": "8c16a5a3",
   "metadata": {},
   "outputs": [],
   "source": [
    "from sklearn.datasets import make_classification\n",
    "x,y = make_classification(100,5,n_classes=2,shuffle=True,random_state=10)"
   ]
  },
  {
   "cell_type": "markdown",
   "id": "4f6603e5",
   "metadata": {},
   "source": [
    "# Spliting data into train and test"
   ]
  },
  {
   "cell_type": "code",
   "execution_count": 20,
   "id": "ef1912b8",
   "metadata": {},
   "outputs": [],
   "source": [
    "from sklearn.model_selection import train_test_split"
   ]
  },
  {
   "cell_type": "code",
   "execution_count": 21,
   "id": "71c4b9aa",
   "metadata": {},
   "outputs": [],
   "source": [
    "x_train,x_test,y_train,y_test = train_test_split(x,y,test_size = 0.30)"
   ]
  },
  {
   "cell_type": "markdown",
   "id": "18661238",
   "metadata": {},
   "source": [
    "# do classification  "
   ]
  },
  {
   "cell_type": "code",
   "execution_count": 22,
   "id": "5c7a9363",
   "metadata": {},
   "outputs": [],
   "source": [
    "clf = RandomForestClassifier()"
   ]
  },
  {
   "cell_type": "code",
   "execution_count": 23,
   "id": "69d86e0f",
   "metadata": {},
   "outputs": [],
   "source": [
    "clf = clf.fit(x_train,y_train)"
   ]
  },
  {
   "cell_type": "code",
   "execution_count": 24,
   "id": "f5896efd",
   "metadata": {},
   "outputs": [],
   "source": [
    "y_predict = clf.predict(x_test)"
   ]
  },
  {
   "cell_type": "markdown",
   "id": "b00c9082",
   "metadata": {},
   "source": [
    "# ACCURACY OF THE MODEL"
   ]
  },
  {
   "cell_type": "code",
   "execution_count": 25,
   "id": "c83b92d1",
   "metadata": {},
   "outputs": [
    {
     "data": {
      "text/plain": [
       "('ACCURACY OF THE MODEL: ', 93.33333333333333)"
      ]
     },
     "execution_count": 25,
     "metadata": {},
     "output_type": "execute_result"
    }
   ],
   "source": [
    "\"ACCURACY OF THE MODEL: \", metrics.accuracy_score(y_test, y_predict)*100"
   ]
  },
  {
   "cell_type": "markdown",
   "id": "50706f11",
   "metadata": {},
   "source": [
    "# Working : "
   ]
  },
  {
   "cell_type": "code",
   "execution_count": 27,
   "id": "0734c429",
   "metadata": {},
   "outputs": [],
   "source": [
    "sepal_length = float(input(\"Enter sepal length : \"))\n",
    "sepal_width = float(input(\"Enter sepal width : \"))\n",
    "petal_length=float(input(\"Enter petal length : \"))\n",
    "petal_width = float(input(\"Enter petal width : \"))\n",
    "rturn = clf.predict([[sepal_length, sepal_width, petal_length, petal_width,0]])"
   ]
  },
  {
   "cell_type": "code",
   "execution_count": null,
   "id": "590114e9",
   "metadata": {},
   "outputs": [],
   "source": [
    "if [1]==rturn:\n",
    "    print(\"Iris\")\n",
    "if [0]==rturn:\n",
    "    print(\"Not Iris\")"
   ]
  }
 ],
 "metadata": {
  "kernelspec": {
   "display_name": "Python 3 (ipykernel)",
   "language": "python",
   "name": "python3"
  },
  "language_info": {
   "codemirror_mode": {
    "name": "ipython",
    "version": 3
   },
   "file_extension": ".py",
   "mimetype": "text/x-python",
   "name": "python",
   "nbconvert_exporter": "python",
   "pygments_lexer": "ipython3",
   "version": "3.10.6"
  }
 },
 "nbformat": 4,
 "nbformat_minor": 5
}
