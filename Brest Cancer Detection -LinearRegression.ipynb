{
 "cells": [
  {
   "cell_type": "code",
   "execution_count": 5,
   "id": "8e77897c",
   "metadata": {},
   "outputs": [],
   "source": [
    "from sklearn import datasets,linear_model"
   ]
  },
  {
   "cell_type": "markdown",
   "id": "8886c189",
   "metadata": {},
   "source": [
    "Loading dataset from sklearn"
   ]
  },
  {
   "cell_type": "code",
   "execution_count": 4,
   "id": "83dc4932",
   "metadata": {},
   "outputs": [],
   "source": [
    "Breast_Cancer = datasets.load_iris()"
   ]
  },
  {
   "cell_type": "code",
   "execution_count": 7,
   "id": "bbef429c",
   "metadata": {},
   "outputs": [],
   "source": [
    "import numpy as np"
   ]
  },
  {
   "cell_type": "code",
   "execution_count": 14,
   "id": "cb27b3f0",
   "metadata": {},
   "outputs": [],
   "source": [
    "Breast_Cancer_x  = Breast_Cancer.data[:,np.newaxis,2] #slicing dataset "
   ]
  },
  {
   "cell_type": "code",
   "execution_count": 15,
   "id": "772f93ef",
   "metadata": {},
   "outputs": [
    {
     "data": {
      "text/plain": [
       "(150, 1)"
      ]
     },
     "execution_count": 15,
     "metadata": {},
     "output_type": "execute_result"
    }
   ],
   "source": [
    "Breast_Cancer_x.shape"
   ]
  },
  {
   "cell_type": "markdown",
   "id": "770447ce",
   "metadata": {},
   "source": [
    "# spliting dataset"
   ]
  },
  {
   "cell_type": "code",
   "execution_count": 16,
   "id": "b979aa30",
   "metadata": {},
   "outputs": [],
   "source": [
    "Breast_Cancer_x_train = Breast_Cancer_x[:-30]\n",
    "Breast_Cancer_x_test = Breast_Cancer_x[-20:]\n"
   ]
  },
  {
   "cell_type": "code",
   "execution_count": 23,
   "id": "a5eadc2c",
   "metadata": {},
   "outputs": [],
   "source": [
    "Breast_Cancer_y_train = Breast_Cancer.target[:-30]"
   ]
  },
  {
   "cell_type": "code",
   "execution_count": 24,
   "id": "18db78eb",
   "metadata": {},
   "outputs": [],
   "source": [
    "Breast_Cancer_y_test = Breast_Cancer.target[-20:]"
   ]
  },
  {
   "cell_type": "markdown",
   "id": "278f6627",
   "metadata": {},
   "source": [
    "# Train Model &fiting into x and y axis :"
   ]
  },
  {
   "cell_type": "code",
   "execution_count": 25,
   "id": "28c82131",
   "metadata": {},
   "outputs": [],
   "source": [
    "model = linear_model.LinearRegression()"
   ]
  },
  {
   "cell_type": "code",
   "execution_count": 26,
   "id": "3ae57863",
   "metadata": {},
   "outputs": [
    {
     "data": {
      "text/html": [
       "<style>#sk-container-id-1 {color: black;background-color: white;}#sk-container-id-1 pre{padding: 0;}#sk-container-id-1 div.sk-toggleable {background-color: white;}#sk-container-id-1 label.sk-toggleable__label {cursor: pointer;display: block;width: 100%;margin-bottom: 0;padding: 0.3em;box-sizing: border-box;text-align: center;}#sk-container-id-1 label.sk-toggleable__label-arrow:before {content: \"▸\";float: left;margin-right: 0.25em;color: #696969;}#sk-container-id-1 label.sk-toggleable__label-arrow:hover:before {color: black;}#sk-container-id-1 div.sk-estimator:hover label.sk-toggleable__label-arrow:before {color: black;}#sk-container-id-1 div.sk-toggleable__content {max-height: 0;max-width: 0;overflow: hidden;text-align: left;background-color: #f0f8ff;}#sk-container-id-1 div.sk-toggleable__content pre {margin: 0.2em;color: black;border-radius: 0.25em;background-color: #f0f8ff;}#sk-container-id-1 input.sk-toggleable__control:checked~div.sk-toggleable__content {max-height: 200px;max-width: 100%;overflow: auto;}#sk-container-id-1 input.sk-toggleable__control:checked~label.sk-toggleable__label-arrow:before {content: \"▾\";}#sk-container-id-1 div.sk-estimator input.sk-toggleable__control:checked~label.sk-toggleable__label {background-color: #d4ebff;}#sk-container-id-1 div.sk-label input.sk-toggleable__control:checked~label.sk-toggleable__label {background-color: #d4ebff;}#sk-container-id-1 input.sk-hidden--visually {border: 0;clip: rect(1px 1px 1px 1px);clip: rect(1px, 1px, 1px, 1px);height: 1px;margin: -1px;overflow: hidden;padding: 0;position: absolute;width: 1px;}#sk-container-id-1 div.sk-estimator {font-family: monospace;background-color: #f0f8ff;border: 1px dotted black;border-radius: 0.25em;box-sizing: border-box;margin-bottom: 0.5em;}#sk-container-id-1 div.sk-estimator:hover {background-color: #d4ebff;}#sk-container-id-1 div.sk-parallel-item::after {content: \"\";width: 100%;border-bottom: 1px solid gray;flex-grow: 1;}#sk-container-id-1 div.sk-label:hover label.sk-toggleable__label {background-color: #d4ebff;}#sk-container-id-1 div.sk-serial::before {content: \"\";position: absolute;border-left: 1px solid gray;box-sizing: border-box;top: 0;bottom: 0;left: 50%;z-index: 0;}#sk-container-id-1 div.sk-serial {display: flex;flex-direction: column;align-items: center;background-color: white;padding-right: 0.2em;padding-left: 0.2em;position: relative;}#sk-container-id-1 div.sk-item {position: relative;z-index: 1;}#sk-container-id-1 div.sk-parallel {display: flex;align-items: stretch;justify-content: center;background-color: white;position: relative;}#sk-container-id-1 div.sk-item::before, #sk-container-id-1 div.sk-parallel-item::before {content: \"\";position: absolute;border-left: 1px solid gray;box-sizing: border-box;top: 0;bottom: 0;left: 50%;z-index: -1;}#sk-container-id-1 div.sk-parallel-item {display: flex;flex-direction: column;z-index: 1;position: relative;background-color: white;}#sk-container-id-1 div.sk-parallel-item:first-child::after {align-self: flex-end;width: 50%;}#sk-container-id-1 div.sk-parallel-item:last-child::after {align-self: flex-start;width: 50%;}#sk-container-id-1 div.sk-parallel-item:only-child::after {width: 0;}#sk-container-id-1 div.sk-dashed-wrapped {border: 1px dashed gray;margin: 0 0.4em 0.5em 0.4em;box-sizing: border-box;padding-bottom: 0.4em;background-color: white;}#sk-container-id-1 div.sk-label label {font-family: monospace;font-weight: bold;display: inline-block;line-height: 1.2em;}#sk-container-id-1 div.sk-label-container {text-align: center;}#sk-container-id-1 div.sk-container {/* jupyter's `normalize.less` sets `[hidden] { display: none; }` but bootstrap.min.css set `[hidden] { display: none !important; }` so we also need the `!important` here to be able to override the default hidden behavior on the sphinx rendered scikit-learn.org. See: https://github.com/scikit-learn/scikit-learn/issues/21755 */display: inline-block !important;position: relative;}#sk-container-id-1 div.sk-text-repr-fallback {display: none;}</style><div id=\"sk-container-id-1\" class=\"sk-top-container\"><div class=\"sk-text-repr-fallback\"><pre>LinearRegression()</pre><b>In a Jupyter environment, please rerun this cell to show the HTML representation or trust the notebook. <br />On GitHub, the HTML representation is unable to render, please try loading this page with nbviewer.org.</b></div><div class=\"sk-container\" hidden><div class=\"sk-item\"><div class=\"sk-estimator sk-toggleable\"><input class=\"sk-toggleable__control sk-hidden--visually\" id=\"sk-estimator-id-1\" type=\"checkbox\" checked><label for=\"sk-estimator-id-1\" class=\"sk-toggleable__label sk-toggleable__label-arrow\">LinearRegression</label><div class=\"sk-toggleable__content\"><pre>LinearRegression()</pre></div></div></div></div></div>"
      ],
      "text/plain": [
       "LinearRegression()"
      ]
     },
     "execution_count": 26,
     "metadata": {},
     "output_type": "execute_result"
    }
   ],
   "source": [
    "model.fit(Breast_Cancer_x_train,Breast_Cancer_y_train)"
   ]
  },
  {
   "cell_type": "code",
   "execution_count": 30,
   "id": "b3268385",
   "metadata": {},
   "outputs": [],
   "source": [
    "Breast_Cancer_y_predict = model.predict(Breast_Cancer_x_test)"
   ]
  },
  {
   "cell_type": "markdown",
   "id": "6e173df0",
   "metadata": {},
   "source": [
    "# Mean Squred error for Accuracy"
   ]
  },
  {
   "cell_type": "code",
   "execution_count": 36,
   "id": "af92fbdb",
   "metadata": {},
   "outputs": [],
   "source": [
    "from sklearn.metrics import mean_squared_error\n"
   ]
  },
  {
   "cell_type": "code",
   "execution_count": 38,
   "id": "d2f9c364",
   "metadata": {},
   "outputs": [
    {
     "data": {
      "text/plain": [
       "('Mean squred error is : ', 0.17299693585747006)"
      ]
     },
     "execution_count": 38,
     "metadata": {},
     "output_type": "execute_result"
    }
   ],
   "source": [
    "\"Mean squred error is : \", mean_squared_error(Breast_Cancer_y_test,Breast_Cancer_y_predict)"
   ]
  },
  {
   "cell_type": "code",
   "execution_count": 39,
   "id": "56c690bc",
   "metadata": {},
   "outputs": [
    {
     "data": {
      "text/plain": [
       "('Height : ', array([0.40414592]))"
      ]
     },
     "execution_count": 39,
     "metadata": {},
     "output_type": "execute_result"
    }
   ],
   "source": [
    "\"Height : \",model.coef_"
   ]
  },
  {
   "cell_type": "code",
   "execution_count": 40,
   "id": "c1874429",
   "metadata": {},
   "outputs": [
    {
     "data": {
      "text/plain": [
       "('intercept : ', -0.5944587489785533)"
      ]
     },
     "execution_count": 40,
     "metadata": {},
     "output_type": "execute_result"
    }
   ],
   "source": [
    "\"intercept : \",model.intercept_"
   ]
  },
  {
   "cell_type": "markdown",
   "id": "e3e1c861",
   "metadata": {},
   "source": [
    "# ploting the graph"
   ]
  },
  {
   "cell_type": "code",
   "execution_count": 42,
   "id": "d55c416e",
   "metadata": {},
   "outputs": [],
   "source": [
    "import matplotlib.pyplot as plt"
   ]
  },
  {
   "cell_type": "code",
   "execution_count": 45,
   "id": "1ca65796",
   "metadata": {},
   "outputs": [
    {
     "data": {
      "text/plain": [
       "[<matplotlib.lines.Line2D at 0x14ce68fee60>]"
      ]
     },
     "execution_count": 45,
     "metadata": {},
     "output_type": "execute_result"
    },
    {
     "data": {
      "image/png": "[encoded data removed]",
      "text/plain": [
       "<Figure size 640x480 with 1 Axes>"
      ]
     },
     "metadata": {},
     "output_type": "display_data"
    }
   ],
   "source": [
    "plt.scatter(Breast_Cancer_x_test,Breast_Cancer_y_test)\n",
    "plt.plot(Breast_Cancer_x_test,Breast_Cancer_y_predict)\n"
   ]
  },
  {
   "cell_type": "markdown",
   "id": "c2fdea37",
   "metadata": {},
   "source": [
    "# Note:"
   ]
  },
  {
   "cell_type": "markdown",
   "id": "bee816da",
   "metadata": {},
   "source": [
    "For accurate prediaction value remove slicing."
   ]
  }
 ],
 "metadata": {
  "kernelspec": {
   "display_name": "Python 3 (ipykernel)",
   "language": "python",
   "name": "python3"
  },
  "language_info": {
   "codemirror_mode": {
    "name": "ipython",
    "version": 3
   },
   "file_extension": ".py",
   "mimetype": "text/x-python",
   "name": "python",
   "nbconvert_exporter": "python",
   "pygments_lexer": "ipython3",
   "version": "3.10.6"
  }
 },
 "nbformat": 4,
 "nbformat_minor": 5
}
